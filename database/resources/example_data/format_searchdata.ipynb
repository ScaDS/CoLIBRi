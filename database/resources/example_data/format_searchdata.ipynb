{
 "cells": [
  {
   "cell_type": "code",
   "id": "initial_id",
   "metadata": {
    "collapsed": true,
    "ExecuteTime": {
     "end_time": "2025-10-07T11:31:54.421981Z",
     "start_time": "2025-10-07T11:31:54.254073Z"
    }
   },
   "source": [
    "import pandas as pd\n",
    "import re\n",
    "\n",
    "# Load the CSV file\n",
    "df = pd.read_csv('searchdata.csv')\n",
    "\n",
    "# Function to format array literals\n",
    "def format_array_literal(array_str):\n",
    "    if pd.isnull(array_str):\n",
    "        return None\n",
    "    return array_str.replace(\"[\", \"{\").replace(\"]\", \"}\")\n",
    "\n",
    "# Function to format the nested arrays in the top-level array\n",
    "def format_nested_arrays(array_str):\n",
    "    if pd.isnull(array_str):\n",
    "        return None\n",
    "    return '{' + array_str[1:-1].strip().replace('{', '\\\"{').replace(\"}\", \"}\\\"\") + '}'\n",
    "\n",
    "# Apply the formatting function to all relevant columns\n",
    "array_columns = ['shape', 'material', 'general_tolerances', 'surfaces', \n",
    "                 'gdts', 'threads', 'outer_dimensions', 'search_vector']\n",
    "\n",
    "for column in array_columns:\n",
    "    df[column] = df[column].apply(format_array_literal)\n",
    "    df[column] = df[column].apply(format_nested_arrays)\n",
    "\n",
    "# Save the modified DataFrame back to a new CSV\n",
    "df.to_csv('searchdata.csv', index=False)"
   ],
   "outputs": [],
   "execution_count": 1
  },
  {
   "metadata": {},
   "cell_type": "code",
   "outputs": [],
   "execution_count": null,
   "source": "",
   "id": "6aec60bd9896cc3b"
  }
 ],
 "metadata": {
  "kernelspec": {
   "display_name": "Python 3",
   "language": "python",
   "name": "python3"
  },
  "language_info": {
   "codemirror_mode": {
    "name": "ipython",
    "version": 2
   },
   "file_extension": ".py",
   "mimetype": "text/x-python",
   "name": "python",
   "nbconvert_exporter": "python",
   "pygments_lexer": "ipython2",
   "version": "2.7.6"
  }
 },
 "nbformat": 4,
 "nbformat_minor": 5
}
