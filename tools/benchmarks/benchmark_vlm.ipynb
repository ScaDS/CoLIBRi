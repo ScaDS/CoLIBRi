{
 "cells": [
  {
   "cell_type": "code",
   "id": "initial_id",
   "metadata": {
    "collapsed": true,
    "ExecuteTime": {
     "end_time": "2025-10-30T08:36:39.177638Z",
     "start_time": "2025-10-30T08:36:39.127051Z"
    }
   },
   "source": [
    "import requests\n",
    "import base64\n",
    "import json\n",
    "import pydantic\n",
    "from pydantic import field_validator\n",
    "from typing import List, Union, Dict, Literal\n",
    "import traceback\n",
    "import datetime\n",
    "import uuid"
   ],
   "outputs": [],
   "execution_count": 1
  },
  {
   "metadata": {
    "ExecuteTime": {
     "end_time": "2025-09-22T09:09:57.615830Z",
     "start_time": "2025-09-22T09:09:57.611634Z"
    }
   },
   "cell_type": "code",
   "source": [
    "# stuff to change for your application\n",
    "API_KEY = \"\"\n",
    "ENDPOINT_URL = \"\"\n",
    "MODEL = \"vllm-llama-4-scout-17b-16e-instruct\""
   ],
   "id": "e63089e4e9d373c3",
   "outputs": [],
   "execution_count": 2
  },
  {
   "metadata": {
    "ExecuteTime": {
     "end_time": "2025-09-22T09:09:58.209401Z",
     "start_time": "2025-09-22T09:09:58.041428Z"
    }
   },
   "cell_type": "code",
   "source": [
    "prompt = \"\"\"You are given an image of a technical drawing. The drawing will have textual and visual features like lines, hatching and other geometry. Focus only on the text. Extract the text and make some deductions from it:\n",
    "There will most likely be several views of the same part in the drawing, as well as a table, that contains global information.\n",
    "\n",
    "From the table extract:\n",
    "1. Material information\n",
    "2. Tolerance information (likely depicted using a DIN norm like 2768). The interesting parts are the two characters after the DIN. The characters may be one of [\"f\", \"m\", \"c\", \"v\"] for the first letter and one of [\"H\", \"K\", \"L\"] for the second. The class might spelled out: f = fein, m = mittel, c = grob, v = sehr grob.\n",
    "3. Name of the part\n",
    "4. Surface Information, which is most often referenced using Rz, Ra or Rt in front of a floating point number and is connected to a triangle shape\n",
    "5. Extract Gd&Ts. These are rectangles that contain a symbol that specifies the GDT class, and a runout in form of a float. Match the symbols in the drawing to these descriptions:\n",
    "    a) horizontal line -> Straightness\n",
    "    b) parallelogram -> Flatness\n",
    "    c) circle (dont confuse with diameter character \"⌀\", no through line) -> Circularity\n",
    "    d) circle with two parallel lines on each side -> Cilindricity\n",
    "    e) half circle with line at bottom -> Profile of a Surface\n",
    "    f) half circle/ arc -> Profile of a Line\n",
    "    g) horizontal line and a vertical line\n",
    "    intersecting at 90°, like an upside down T -> Perpendicularity\n",
    "    h) Two lines intersecting at an acute angle -> Angularity\n",
    "    i) Two parallel lines like // -> Parallelism\n",
    "    j) Circle with a cross -> Position\n",
    "    k) Circle containing another circle -> Concentricity\n",
    "    l) 3 parallel horizontal lines: Symmetry\n",
    "    m) Arrow pointing top right -> Circular Runout\n",
    "    n) Two arrows pointing top right, connected by a horizontal line -> Total Runout\n",
    " and add the classname (after the \"->\") to the result.\n",
    "6. Also Extract Threads in all possible forms\n",
    "7. Extract outer measures of the part. For this, disregard detail views. These are typically annotated using a capital letter and a scale e.g. \"A 5:1\" or some variation. If there is a diameter sign or \"SW\" present in the measurement, it indicates that the part is rotationally symmetric and thus the measurement has to be used for two dimensions. To detect biggest measures in each dimension, extract the biggest measure for both dimensions of each view. Afterwards merge the values using views that are adjacent. Reason through this. If you dont find 3 values, fill the output with copies of values that are already in extracted until outer_measures contains 3 floats.\n",
    "\n",
    "Output the results in the following json format:\n",
    "\n",
    "OUTPUT START\n",
    "{\n",
    "\"material\": [material strings],\n",
    "\"general_tolerances\": {\"char1\": str, \"char2\": str},\n",
    "\"name\": string,\n",
    "\"surfaces\": [surface strings],\n",
    "\"gdts\": [{\"name\": string, \"runout\": number}],\n",
    "\"threads\": [thread strings],\n",
    "\"outer_measures\": [x,y,z]\n",
    "}\n",
    "OUTPUT END\n",
    "\n",
    "Mark the json output in your response by adding OUTPUT START and OUTPUT END. Do not add any other indicators, such as 'json' or use \"```\" to indicate the output. Make sure to use proper double quotes \" for the field names. Do NOT add comments inside of the json. Do NOT add example values inside of the json output, only things you actually extracted from the image.\n",
    "\n",
    "\"\"\"\n",
    "\n",
    "class TechDrawing(pydantic.BaseModel):\n",
    "    material: List[str]\n",
    "    general_tolerances: Dict[Literal[\"char1\", \"char2\"], str]\n",
    "    name: str\n",
    "    surfaces: List[str]\n",
    "    gdts: List[Dict[Literal[\"name\", \"runout\"], Union[str, float]]]\n",
    "    threads: List[str]\n",
    "    outer_measures: List[float]\n",
    "\n",
    "    @field_validator('outer_measures')\n",
    "    def validate_outer_measures(cls, v):\n",
    "        if len(v) != 3:\n",
    "            raise pydantic.ValidationError(\"outer_measures must have 3 elements\")\n",
    "        return v\n",
    "\n",
    "    @field_validator('gdts')\n",
    "    def validate_gdts(cls, v):\n",
    "        if len(v) > 0:\n",
    "            for gdt in v:\n",
    "                if \"name\" not in gdt or \"runout\" not in gdt:\n",
    "                    raise ValueError(\"gdts must contain both 'name' and 'runout' keys\")\n",
    "                if not isinstance(gdt[\"name\"], str):\n",
    "                    raise ValueError(\"gdts['name'] must be a string\")\n",
    "                if not isinstance(gdt[\"runout\"], (int, float)):\n",
    "                    raise ValueError(\"gdts['runout'] must be a number\")\n",
    "        return v\n",
    "\n",
    "    @field_validator('general_tolerances')\n",
    "    def validate_general_tolerances(cls, v):\n",
    "        if len(v[\"char1\"]) > 1:\n",
    "            raise ValueError(\"Error at [Pos 0]: General Tolerances must have exactly 1 char in each position\")\n",
    "        if len(v[\"char1\"]) > 1:\n",
    "            raise ValueError(\"Error at [Pos 1]: General Tolerances must have exactly 1 char in each position\")\n",
    "        return v\n",
    "\n",
    "\n",
    "def convert_llm_response_to_dict(response):\n",
    "    completion = str(response.json()[\"choices\"][0][\"message\"][\"content\"])\n",
    "    json_output = completion.split(\"OUTPUT START\")[-1]\n",
    "    json_output = json_output.split(\"OUTPUT END\")[0]\n",
    "    json_output = json_output.replace(\"\\n\", \"\")\n",
    "    json_output = json.loads(json_output)\n",
    "    print(json_output)\n",
    "    return TechDrawing(\n",
    "        material=json_output[\"material\"],\n",
    "        general_tolerances=json_output[\"general_tolerances\"],\n",
    "        name=json_output[\"name\"],\n",
    "        surfaces=json_output[\"surfaces\"],\n",
    "        gdts=json_output[\"gdts\"],\n",
    "        threads=json_output[\"threads\"],\n",
    "        outer_measures=json_output[\"outer_measures\"]\n",
    "    )"
   ],
   "id": "692ee0018b5fc61b",
   "outputs": [],
   "execution_count": 3
  },
  {
   "metadata": {
    "ExecuteTime": {
     "end_time": "2025-09-22T09:09:58.503083Z",
     "start_time": "2025-09-22T09:09:58.496707Z"
    }
   },
   "cell_type": "code",
   "source": [
    "def load_image_from_name(name):\n",
    "    file_path = \"./data/drawings/\" + name\n",
    "    with open(file_path, \"rb\") as f:\n",
    "        img_bytes = f.read()\n",
    "        img_base64 = str(base64.b64encode(img_bytes)).replace(\"b'\", \"\").replace(\"'\", \"\")\n",
    "    return img_base64"
   ],
   "id": "79b3721a0bd64a7",
   "outputs": [],
   "execution_count": 4
  },
  {
   "metadata": {
    "ExecuteTime": {
     "end_time": "2025-09-22T09:09:58.974396Z",
     "start_time": "2025-09-22T09:09:58.956136Z"
    }
   },
   "cell_type": "code",
   "source": [
    "def get_vlm_response(img_name, model_name):\n",
    "    headers = {\n",
    "        \"Authorization\": f\"Bearer {API_KEY}\",\n",
    "        \"Content-Type\": \"application/json\",\n",
    "        \"accept\": \"application/json\"\n",
    "    }\n",
    "    data = {\n",
    "       \"messages\": [\n",
    "            {\n",
    "                \"role\": \"user\",\n",
    "                \"content\": [\n",
    "                    {\"type\": \"text\", \"text\": prompt},\n",
    "                    {\"type\": \"image_url\", \"image_url\": {\"url\": f\"data:image/png;base64,{load_image_from_name(img_name)}\"}},\n",
    "                ]\n",
    "            }\n",
    "        ],\n",
    "        \"model\": model_name\n",
    "    }\n",
    "    try:\n",
    "        response = requests.post(ENDPOINT_URL, headers=headers, data=json.dumps(data), timeout=120)\n",
    "        print(response.text)\n",
    "        return convert_llm_response_to_dict(response)\n",
    "    except Exception as e:\n",
    "        print(e)\n",
    "        return None"
   ],
   "id": "1ba959fcc2b7d97",
   "outputs": [],
   "execution_count": 5
  },
  {
   "metadata": {},
   "cell_type": "code",
   "source": [
    "with open(\"./labels.json\", \"r\") as f:\n",
    "    data = json.load(f)\n",
    "\n",
    "results = []\n",
    "\n",
    "start = datetime.datetime.now()\n",
    "\n",
    "for i, img_data in enumerate(data):\n",
    "    img_name = img_data[\"name\"]\n",
    "\n",
    "    try:\n",
    "        print(i, img_name)\n",
    "        response_data = get_vlm_response(img_name, model)\n",
    "        if response_data is not None:\n",
    "            result = {\n",
    "                \"ground_truth\": img_data[\"data\"],\n",
    "                \"vlm_reponse\": response_data.model_dump_json()\n",
    "            }\n",
    "            results.append(result)\n",
    "    except Exception as e:\n",
    "        traceback.print_exc()\n",
    "        continue\n",
    "\n",
    "end = datetime.datetime.now()\n",
    "\n",
    "output = {\n",
    "    \"prompt\": prompt,\n",
    "    \"model\": MODEL,\n",
    "    \"time_spent\": (end - start).total_seconds(),\n",
    "    \"results\": results\n",
    "}\n",
    "\n",
    "with open(MODEL + \"___\" + str(uuid.uuid4()) + \".json\", \"w\") as f:\n",
    "    json.dump(output, f)"
   ],
   "id": "c970b36d39429014",
   "outputs": [],
   "execution_count": null
  }
 ],
 "metadata": {
  "kernelspec": {
   "display_name": "Python 3",
   "language": "python",
   "name": "python3"
  },
  "language_info": {
   "codemirror_mode": {
    "name": "ipython",
    "version": 2
   },
   "file_extension": ".py",
   "mimetype": "text/x-python",
   "name": "python",
   "nbconvert_exporter": "python",
   "pygments_lexer": "ipython2",
   "version": "2.7.6"
  }
 },
 "nbformat": 4,
 "nbformat_minor": 5
}
